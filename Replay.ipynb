{
 "cells": [
  {
   "cell_type": "code",
   "execution_count": 1,
   "metadata": {},
   "outputs": [],
   "source": [
    "%load_ext autoreload\n",
    "%autoreload 2\n",
    "\n",
    "import sys\n",
    "import time\n",
    "from pprint import pformat\n",
    "\n",
    "import numpy as np\n",
    "import matplotlib.pyplot as plt\n",
    "import matplotlib as mpl\n",
    "from mpl_toolkits.axes_grid1 import make_axes_locatable\n",
    "import matplotlib.patches as patches\n",
    "import seaborn as sns\n",
    "%matplotlib inline\n",
    "\n",
    "from geodesic_agent import GeodesicAgent\n",
    "from gridworld import Arena, Bottleneck, LinearChamber\n",
    "from graph import CommunityGraph\n",
    "from plot_utils import plot_replay, plot_traj, plot_need_gain\n",
    "from RL_utils import oned_twod\n",
    "\n",
    "def dict_print(d, indent_size=1):\n",
    "    '''\n",
    "        Fancy printing. Collapse identical, consecutive rows in input dictionary d.\n",
    "    '''\n",
    "    indent = ' ' * indent_size\n",
    "    for kdx, key in enumerate(d.keys()):\n",
    "        val = d[key]\n",
    "        if kdx == 0: # No previous one to compare to\n",
    "            prev_val = val\n",
    "            start = kdx\n",
    "            continue\n",
    "        \n",
    "        if val == prev_val: # Consecutive, skip\n",
    "            continue\n",
    "        \n",
    "        # Non-consecutive, print out\n",
    "        if kdx - 1 == start:\n",
    "            print_key = '%d' % start\n",
    "        else:\n",
    "            print_key = '%d-%d' % (start, kdx - 1)\n",
    "        \n",
    "        print(indent + '%s: %s' % (print_key, prev_val))\n",
    "        \n",
    "        # Update\n",
    "        start = kdx\n",
    "        prev_val = val\n",
    "    \n",
    "    if kdx - 1 == start:\n",
    "        print_key = '%d' % start\n",
    "    else:\n",
    "        print_key = '%d-%d' % (start, kdx - 1)\n",
    "\n",
    "    print(indent + '%s: %s' % (print_key, prev_val))"
   ]
  },
  {
   "cell_type": "markdown",
   "metadata": {},
   "source": [
    "*Open field*"
   ]
  },
  {
   "cell_type": "code",
   "execution_count": null,
   "metadata": {
    "scrolled": false
   },
   "outputs": [],
   "source": [
    "# Physics\n",
    "width = 10\n",
    "height = 7\n",
    "num_states = width * height\n",
    "\n",
    "# Build object\n",
    "one_start_state = np.zeros(num_states)\n",
    "one_start_state[0] = 1\n",
    "all_start_states = np.ones(num_states) / num_states\n",
    "init_state_dist = one_start_state\n",
    "\n",
    "arena = Arena(width, height, init_state_distribution=init_state_dist)\n",
    "all_experiences = arena.get_all_transitions()\n",
    "T = arena.transitions\n",
    "\n",
    "## Agent parameters\n",
    "corner_goals = np.array([width - 1, (height - 1) * width, height * width - 1]) # Non-start corners\n",
    "all_goals = np.arange(0, width * height)\n",
    "goals = corner_goals\n",
    "\n",
    "alpha = 1.0\n",
    "gamma = 0.95\n",
    "num_replay_steps = 20\n",
    "\n",
    "# Set up agent\n",
    "ga = GeodesicAgent(arena.num_states, arena.num_actions, goals, T, alpha=alpha, gamma=gamma,\n",
    "                   s0_dist=init_state_dist)\n",
    "ga.curr_state = 0\n",
    "ga.remember(all_experiences) # Pre-load our agent with all possible memories\n",
    "\n",
    "## Run replay\n",
    "replayed_experiences, stats_for_nerds, backups = ga.replay(num_steps=num_replay_steps, verbose=True, prospective=True)\n",
    "needs, trans_needs, gains, all_MEVBs = stats_for_nerds"
   ]
  },
  {
   "cell_type": "code",
   "execution_count": null,
   "metadata": {
    "scrolled": false
   },
   "outputs": [],
   "source": [
    "# Plot the replayed experiences\n",
    "print('First %d replay steps' % num_replay_steps, flush=True)\n",
    "fig, ax = plt.subplots(1, 1, figsize=(6,6))\n",
    "plot_replay(arena, np.array(replayed_experiences).astype(int), ax=ax)\n",
    "ax.set_xticklabels([])\n",
    "ax.set_yticklabels([])\n",
    "ax.get_xaxis().set_visible(False)\n",
    "ax.get_yaxis().set_visible(False)\n",
    "ax.axis('off')\n",
    "ax.scatter(0.5, 0.5, marker='x', color='r')\n",
    "plt.show()\n",
    "\n",
    "# Plotting params\n",
    "# params = {'min_need' : 0,\n",
    "#           'max_need' : 1,\n",
    "#           'alpha_fac' : 0.5}\n",
    "\n",
    "# # Plot need, gain, MEVB throughout each of those steps\n",
    "# meta_need = np.mean(needs, axis=1)\n",
    "# meta_gain = np.mean(gains, axis=1)\n",
    "# meta_MEVB = np.mean(all_MEVBs, axis=1)\n",
    "# verbose = True\n",
    "\n",
    "# for i in range(num_replay_steps):\n",
    "#     print('step %d:' % i)\n",
    "#     if verbose:\n",
    "#         print('\\tReplayed transition:', replayed_experiences[i])\n",
    "#         print('\\tBackup dictionary:')\n",
    "#         dict_print(backups[i], indent_size=8)\n",
    "#         print('\\tReplay history:')\n",
    "#         for j in range(i):\n",
    "#             print('\\t\\t',replayed_experiences[j])\n",
    "\n",
    "#     plot_need_gain(arena, ga.memory, np.average(meta_need[i, :, :], weights=init_state_dist, axis=0), \n",
    "#                    meta_gain[i, :], meta_MEVB[i, :], specials=[tuple(replayed_experiences[i])], params=params)\n",
    "#     plt.show()"
   ]
  },
  {
   "cell_type": "markdown",
   "metadata": {},
   "source": [
    "*Bottleneck chamber*"
   ]
  },
  {
   "cell_type": "code",
   "execution_count": null,
   "metadata": {},
   "outputs": [],
   "source": [
    "## Bottleneck\n",
    "# Store?\n",
    "save = False\n",
    "\n",
    "# Physics\n",
    "room_width = 4\n",
    "corridor_width = 5\n",
    "width = room_width * 2 + corridor_width\n",
    "height = 5\n",
    "num_states = width * height\n",
    "\n",
    "# Build object\n",
    "valid_states = Bottleneck.get_valid_states(room_width, corridor_width, height)\n",
    "\n",
    "all_states = np.ones(num_states) / len(valid_states)\n",
    "one_state = np.zeros(num_states)\n",
    "one_state[26] = 1\n",
    "init_state_dist = one_state\n",
    "\n",
    "bottleneck = Bottleneck(room_width, corridor_width, height, init_state_distribution=init_state_dist)\n",
    "all_experiences = bottleneck.get_all_transitions()\n",
    "T = bottleneck.transitions\n",
    "\n",
    "## Agent parameters\n",
    "corner_goals = np.array([width - 1, height * width - 1]) # Non-start corners\n",
    "all_goals = np.arange(num_states)\n",
    "goals = corner_goals\n",
    "\n",
    "alpha = 1.0\n",
    "gamma = 0.95\n",
    "num_replay_steps = 30\n",
    "\n",
    "# Set up agent\n",
    "ga = GeodesicAgent(bottleneck.num_states, bottleneck.num_actions, goals, T, alpha=alpha, gamma=gamma,\n",
    "                  s0_dist=init_state_dist)\n",
    "ga.curr_state = 0\n",
    "ga.remember(all_experiences) # Pre-load our agent with all possible memories\n",
    "\n",
    "## Run replay\n",
    "replayed_exps, stats_for_nerds, backups = ga.replay(num_steps=num_replay_steps, verbose=True, prospective=True)\n",
    "needs, trans_needs, gains, all_MEVBs = stats_for_nerds\n",
    "\n",
    "# Save\n",
    "if save:\n",
    "    np.savez('Data/bottleneck_4rw_5cw.npz', replay_seqs=replayed_exps, needs=needs, gains=gains, all_MEVBs=all_MEVBs, backups=backups,\n",
    "                                    room_width=room_width, corridor_width=corridor_width, height=height, num_states=num_states,\n",
    "                                    alpha=alpha, gamma=gamma, num_replay_steps=num_replay_steps)"
   ]
  },
  {
   "cell_type": "code",
   "execution_count": null,
   "metadata": {
    "scrolled": false
   },
   "outputs": [],
   "source": [
    "# Plot the replayed experiences\n",
    "print('First %d replay steps' % num_replay_steps, flush=True)\n",
    "fig, ax = plt.subplots(1, 1, figsize=(6,6))\n",
    "plot_replay(bottleneck, np.array(replayed_exps).astype(int), ax=ax)\n",
    "ax.set_xticklabels([])\n",
    "ax.set_yticklabels([])\n",
    "ax.get_xaxis().set_visible(False)\n",
    "ax.get_yaxis().set_visible(False)\n",
    "ax.axis('off')\n",
    "ax.scatter((0.5), (2.485), marker='x', color='r')\n",
    "plt.show()\n",
    "\n",
    "# Plotting params\n",
    "# params = {'min_need' : 0,\n",
    "#           'max_need' : 1}\n",
    "\n",
    "# Plot need, gain, MEVB throughout each of those steps\n",
    "# meta_need = np.mean(needs, axis=1)\n",
    "# meta_gain = np.mean(gains, axis=1)\n",
    "# meta_MEVB = np.mean(all_MEVBs, axis=1)\n",
    "# verbose = True\n",
    "\n",
    "# for i in range(min(num_replay_steps, 50)):\n",
    "#     print('step %d:' % i)\n",
    "#     if verbose:\n",
    "#         print('\\tReplayed transition:', replayed_exps[i])\n",
    "#         print('\\tBackup dictionary:')\n",
    "#         dict_print(backups[i], indent_size=8)\n",
    "#         print('\\tReplay history:')\n",
    "#         for j in range(i):\n",
    "#             print('\\t\\t',replayed_exps[j]) # so dumb\n",
    "\n",
    "#     plot_need_gain(bottleneck, ga.memory, np.average(meta_need[i, :, :], weights=init_state_dist, axis=0), \n",
    "#                    meta_gain[i, :], meta_MEVB[i, :], specials=[tuple(replayed_exps[i])], params=params)\n",
    "#     plt.show()"
   ]
  },
  {
   "cell_type": "markdown",
   "metadata": {},
   "source": [
    "*Linear chamber*"
   ]
  },
  {
   "cell_type": "code",
   "execution_count": null,
   "metadata": {
    "scrolled": false
   },
   "outputs": [],
   "source": [
    "## Linear chamber\n",
    "# Physics\n",
    "length = 30\n",
    "\n",
    "# Build object\n",
    "init_state_dist = np.zeros(length)\n",
    "init_state_dist[0] = 1\n",
    "tunnel = LinearChamber(length, init_state_distribution=init_state_dist)\n",
    "all_experiences = tunnel.get_all_transitions()\n",
    "T = tunnel.transitions\n",
    "\n",
    "## Agent parameters\n",
    "goal_states = np.array([length - 1]) # Non-start corners\n",
    "# goal_states = np.arange(length)\n",
    "alpha = 1.0\n",
    "gamma = 0.95\n",
    "num_replay_steps = 20\n",
    "\n",
    "# Set up agent\n",
    "ga = GeodesicAgent(tunnel.num_states, tunnel.num_actions, goal_states, T, alpha=alpha, gamma=gamma,\n",
    "                  s0_dist=init_state_dist)\n",
    "ga.curr_state = 0\n",
    "ga.remember(all_experiences) # Pre-load our agent with all possible memories\n",
    "\n",
    "## Run replay\n",
    "replayed_experiences, stats_for_nerds, backups = ga.replay(num_steps=num_replay_steps, verbose=True, prospective=True)\n",
    "needs, trans_needs, gains, all_MEVBs = stats_for_nerds"
   ]
  },
  {
   "cell_type": "code",
   "execution_count": null,
   "metadata": {
    "scrolled": false
   },
   "outputs": [],
   "source": [
    "# Plot the replayed experiences\n",
    "print('First %d replay steps' % num_replay_steps, flush=True)\n",
    "fig, ax = plt.subplots(1, 1, figsize=(6,6))\n",
    "plot_replay(tunnel, np.array(replayed_experiences).astype(int), ax=ax)\n",
    "ax.set_xticklabels([])\n",
    "ax.set_yticklabels([])\n",
    "ax.get_xaxis().set_visible(False)\n",
    "ax.get_yaxis().set_visible(False)\n",
    "ax.axis('off')\n",
    "plt.show()\n",
    "\n",
    "# Plotting params\n",
    "params = {'min_need' : 0,\n",
    "          'max_need' : 1}\n",
    "\n",
    "# Plot need, gain, MEVB throughout each of those steps\n",
    "# meta_need = np.mean(needs, axis=1)\n",
    "# meta_gain = np.mean(gains, axis=1)\n",
    "# meta_MEVB = np.mean(all_MEVBs, axis=1)\n",
    "# verbose = True\n",
    "\n",
    "# for i in range(num_replay_steps):\n",
    "#     print('step %d:' % i)\n",
    "#     if verbose:\n",
    "#         print('\\tReplayed transition:', replayed_experiences[i])\n",
    "#         print('\\tBackup dictionary:')\n",
    "#         dict_print(backups[i], indent_size=8)\n",
    "#         print('\\tReplay history:')\n",
    "#         for j in range(i):\n",
    "#             print('\\t\\t',replayed_experiences[j]) # so dumb\n",
    "\n",
    "#     plot_need_gain(tunnel, ga.memory, np.average(meta_need[i, :, :], weights=init_state_dist, axis=0), \n",
    "#                    meta_gain[i, :], meta_MEVB[i, :], specials=[tuple(replayed_experiences[i])], params=params)\n",
    "#     plt.show()"
   ]
  },
  {
   "cell_type": "markdown",
   "metadata": {},
   "source": [
    "*Community graph*"
   ]
  },
  {
   "cell_type": "code",
   "execution_count": null,
   "metadata": {},
   "outputs": [],
   "source": [
    "## Community graph, a la Anna Schapiro\n",
    "\n",
    "# Reproducibility\n",
    "np.random.seed(865612)\n",
    "\n",
    "# Store?\n",
    "save = True\n",
    "\n",
    "# Physics\n",
    "num_nbrhds = 3\n",
    "num_nbrs = 5\n",
    "num_states = num_nbrhds * num_nbrs\n",
    "\n",
    "# Build object\n",
    "init_state_dist = np.ones(num_states) / num_states\n",
    "cg = CommunityGraph(num_nbrhds, num_nbrs, init_state_dist)\n",
    "all_experiences = cg.get_all_transitions()\n",
    "T = cg.transitions\n",
    "\n",
    "## Agent parameters\n",
    "goal_states = np.arange(num_states)\n",
    "alpha = 0.3\n",
    "gamma = 0.95\n",
    "num_replay_steps = 200\n",
    "\n",
    "# Set up agent\n",
    "ga = GeodesicAgent(cg.num_states, cg.num_actions, goal_states, T, alpha=alpha, gamma=gamma,\n",
    "                  s0_dist=init_state_dist)\n",
    "ga.curr_state = 0\n",
    "ga.remember(all_experiences) # Pre-load our agent with all possible memories\n",
    "\n",
    "## Run replay\n",
    "check_convergence = False\n",
    "conv_thresh = 1e-8\n",
    "replayed_exps, stats_for_nerds, backups = ga.replay(num_steps=num_replay_steps, verbose=True, prospective=True,\n",
    "                                                    check_convergence=check_convergence, convergence_thresh=conv_thresh)\n",
    "needs, trans_needs, gains, all_MEVBs = stats_for_nerds\n",
    "\n",
    "# Save\n",
    "if save:\n",
    "    np.savez('Data/cg_3hd_5rs_lr030.npz', replay_seqs=replayed_exps, needs=needs, gains=gains, all_MEVBs=all_MEVBs, backups=backups,\n",
    "                                    num_nbrhds=num_nbrhds, num_nbrs=num_nbrs, num_states=num_states,\n",
    "                                    alpha=alpha, gamma=gamma, num_replay_steps=num_replay_steps)"
   ]
  },
  {
   "cell_type": "code",
   "execution_count": null,
   "metadata": {},
   "outputs": [],
   "source": [
    "print(replayed_exps[:20])"
   ]
  },
  {
   "cell_type": "code",
   "execution_count": null,
   "metadata": {
    "scrolled": false
   },
   "outputs": [],
   "source": [
    "print(replayed_exps.shape)\n",
    "for i in range(5):\n",
    "    for j in range(5):\n",
    "        print('start: %d, end: %d, GR: %.2f' % (i, j, ga.G[i, 0, j]))\n",
    "plt.figure(figsize=(14, 14))\n",
    "plt.imshow(ga.G[:, 0, :])\n",
    "plt.colorbar()"
   ]
  },
  {
   "cell_type": "code",
   "execution_count": null,
   "metadata": {
    "scrolled": false
   },
   "outputs": [],
   "source": [
    "for s in range(num_states):\n",
    "    print()\n",
    "    for g in range(num_states):\n",
    "        print(s, g, np.max(ga.G[s, :, g]))"
   ]
  },
  {
   "cell_type": "code",
   "execution_count": 2,
   "metadata": {},
   "outputs": [],
   "source": [
    "d_uni = np.load('learning_curve_uni.npz')"
   ]
  },
  {
   "cell_type": "code",
   "execution_count": 3,
   "metadata": {},
   "outputs": [],
   "source": [
    "d_pri = np.load('learning_curve_2.npz')"
   ]
  },
  {
   "cell_type": "code",
   "execution_count": 4,
   "metadata": {},
   "outputs": [
    {
     "name": "stdout",
     "output_type": "stream",
     "text": [
      "pri_times\n",
      "uni_times\n"
     ]
    }
   ],
   "source": [
    "for key in d_pri.keys():\n",
    "    print(key)"
   ]
  },
  {
   "cell_type": "code",
   "execution_count": 5,
   "metadata": {},
   "outputs": [
    {
     "name": "stdout",
     "output_type": "stream",
     "text": [
      "[ 5 10 20 40 60 80]\n"
     ]
    }
   ],
   "source": [
    "pri_times = d_pri['pri_times']\n",
    "uni_times = d_uni['uni_times']\n",
    "replay_steps = d_uni['replay_steps']\n",
    "print(replay_steps[:-4])"
   ]
  },
  {
   "cell_type": "code",
   "execution_count": 17,
   "metadata": {},
   "outputs": [
    {
     "data": {
      "text/plain": [
       "<matplotlib.legend.Legend at 0x7fefe7f6dfd0>"
      ]
     },
     "execution_count": 17,
     "metadata": {},
     "output_type": "execute_result"
    },
    {
     "data": {
      "image/png": "[encoded data removed]",
      "text/plain": [
       "<Figure size 864x432 with 1 Axes>"
      ]
     },
     "metadata": {
      "needs_background": "light"
     },
     "output_type": "display_data"
    }
   ],
   "source": [
    "font = {'size'   : 22}\n",
    "\n",
    "mpl.rc('font', **font)\n",
    "mpl.rc('xtick', labelsize=20) \n",
    "mpl.rc('ytick', labelsize=20) \n",
    "\n",
    "plt.figure(figsize=(12,6))\n",
    "plt.plot(replay_steps[:-4], np.nanmean(pri_times, axis=0), marker='x',label='prioritized', color=plt.get_cmap('winter')(50))\n",
    "plt.plot(replay_steps, np.nanmean(uni_times, axis=0), marker='x',label='uniform', color=plt.get_cmap('winter')(225))\n",
    "plt.xlabel('number of replay steps')\n",
    "plt.ylabel('avg. timesteps to goal')\n",
    "plt.legend()\n"
   ]
  },
  {
   "cell_type": "code",
   "execution_count": null,
   "metadata": {},
   "outputs": [],
   "source": [
    "plt.get_cmap('winter')(1)"
   ]
  },
  {
   "cell_type": "code",
   "execution_count": null,
   "metadata": {},
   "outputs": [],
   "source": []
  }
 ],
 "metadata": {
  "kernelspec": {
   "display_name": "Python 3",
   "language": "python",
   "name": "python3"
  },
  "language_info": {
   "codemirror_mode": {
    "name": "ipython",
    "version": 3
   },
   "file_extension": ".py",
   "mimetype": "text/x-python",
   "name": "python",
   "nbconvert_exporter": "python",
   "pygments_lexer": "ipython3",
   "version": "3.7.4"
  }
 },
 "nbformat": 4,
 "nbformat_minor": 2
}
