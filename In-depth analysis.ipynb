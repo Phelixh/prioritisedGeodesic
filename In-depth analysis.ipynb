{
 "cells": [
  {
   "cell_type": "code",
   "execution_count": 7,
   "metadata": {},
   "outputs": [
    {
     "name": "stdout",
     "output_type": "stream",
     "text": [
      "The autoreload extension is already loaded. To reload it, use:\n",
      "  %reload_ext autoreload\n"
     ]
    }
   ],
   "source": [
    "%load_ext autoreload\n",
    "%autoreload 2\n",
    "\n",
    "import sys\n",
    "import time\n",
    "from copy import copy\n",
    "from pprint import pformat\n",
    "\n",
    "import numpy as np\n",
    "import matplotlib.pyplot as plt\n",
    "import matplotlib as mpl\n",
    "from mpl_toolkits.axes_grid1 import make_axes_locatable\n",
    "import matplotlib.patches as patches\n",
    "%matplotlib inline\n",
    "\n",
    "from geodesic_agent import GeodesicAgent\n",
    "from gridworld import Arena, Bottleneck, LinearChamber\n",
    "from plot_utils import plot_replay, plot_traj, plot_need_gain\n",
    "from RL_utils import oned_twod"
   ]
  },
  {
   "cell_type": "markdown",
   "metadata": {},
   "source": [
    "*Open field*"
   ]
  },
  {
   "cell_type": "code",
   "execution_count": null,
   "metadata": {},
   "outputs": [],
   "source": []
  },
  {
   "cell_type": "markdown",
   "metadata": {},
   "source": [
    "*Bottleneck*"
   ]
  },
  {
   "cell_type": "code",
   "execution_count": 8,
   "metadata": {},
   "outputs": [],
   "source": [
    "d = np.load('Data/bottleneck_4rw_5cw.npz', allow_pickle=True)\n",
    "\n",
    "# Bottleneck enclosure params\n",
    "num_states = d['num_states']\n",
    "room_width = d['room_width']\n",
    "corridor_width = d['corridor_width']\n",
    "height = d['height']\n",
    "\n",
    "valid_states = Bottleneck.get_valid_states(room_width, corridor_width, height)\n",
    "init_state_dist = np.zeros(num_states)\n",
    "init_state_dist[valid_states] = 1 / (len(valid_states))\n",
    "bottleneck = Bottleneck(room_width, corridor_width, height, init_state_distribution=init_state_dist)\n",
    "\n",
    "# Actual data\n",
    "replay_seqs = d['replay_seqs']\n",
    "needs = d['needs']\n",
    "gains = d['gains']\n",
    "all_MEVBs = d['all_MEVBs']\n",
    "backups = d['backups']"
   ]
  },
  {
   "cell_type": "code",
   "execution_count": 9,
   "metadata": {},
   "outputs": [],
   "source": [
    "# Preprocessing\n",
    "# Cut off replayed exps if ever there is 0 0 0\n",
    "bad = np.zeros(3)\n",
    "for step in range(replay_seqs.shape[0]):\n",
    "    if np.allclose(replay_seqs[step, :], bad):\n",
    "        break\n",
    "\n",
    "replay_seqs = replay_seqs[:step, :]"
   ]
  },
  {
   "cell_type": "code",
   "execution_count": 16,
   "metadata": {},
   "outputs": [
    {
     "data": {
      "text/plain": [
       "<matplotlib.colorbar.Colorbar at 0x7f8a786ccd50>"
      ]
     },
     "execution_count": 16,
     "metadata": {},
     "output_type": "execute_result"
    },
    {
     "data": {
      "image/png": "[encoded data removed]",
      "text/plain": [
       "<Figure size 864x864 with 2 Axes>"
      ]
     },
     "metadata": {
      "needs_background": "light"
     },
     "output_type": "display_data"
    }
   ],
   "source": [
    "# Analyze\n",
    "occ = np.zeros(num_states)\n",
    "for i in range(replay_seqs.shape[0]):\n",
    "    replay_step = replay_seqs[i, :]\n",
    "    occ[replay_step[0]] += 1\n",
    "\n",
    "occ /= replay_seqs.shape[0]\n",
    "\n",
    "# Plot\n",
    "palette = copy(plt.get_cmap('Reds'))\n",
    "palette.set_under('black', 1.0)\n",
    "\n",
    "# Grab boundaries\n",
    "min_occ = np.min(occ[np.nonzero(occ)]) - 0.0001 # Dumb hack so that need = 0 states don't appear slightly red\n",
    "max_occ = np.max(occ)\n",
    "\n",
    "plt.figure(figsize=(12, 12))\n",
    "plt.imshow(occ.reshape(height, 2 * room_width + corridor_width), cmap=palette, vmin=min_occ, vmax=max_occ)\n",
    "plt.colorbar()"
   ]
  },
  {
   "cell_type": "markdown",
   "metadata": {},
   "source": [
    "*Tunnel*"
   ]
  },
  {
   "cell_type": "code",
   "execution_count": null,
   "metadata": {},
   "outputs": [],
   "source": []
  },
  {
   "cell_type": "code",
   "execution_count": null,
   "metadata": {},
   "outputs": [],
   "source": []
  },
  {
   "cell_type": "markdown",
   "metadata": {},
   "source": [
    "*Community graph*"
   ]
  },
  {
   "cell_type": "code",
   "execution_count": 46,
   "metadata": {},
   "outputs": [],
   "source": [
    "d = np.load('Data/cg_3hd_5rs.npz', allow_pickle=True)\n",
    "\n",
    "# Bottleneck enclosure params\n",
    "num_states = d['num_states']\n",
    "neighbourhood_size = d['num_nbrs']\n",
    "num_neighbourhoods = d['num_nbrhds']\n",
    "\n",
    "# Actual data\n",
    "replay_seqs = d['replay_seqs']\n",
    "needs = d['needs']\n",
    "gains = d['gains']\n",
    "all_MEVBs = d['all_MEVBs']\n",
    "backups = d['backups']\n",
    "num_replay_steps = replay_seqs.shape[0]"
   ]
  },
  {
   "cell_type": "code",
   "execution_count": 47,
   "metadata": {},
   "outputs": [],
   "source": [
    "# Visualize replay for community graph\n",
    "replays = np.zeros((num_replay_steps, num_states))\n",
    "\n",
    "for i in range(num_replay_steps):\n",
    "    source, action, target = replay_seqs[i]\n",
    "    replays[i, source] = 0.5\n",
    "    replays[i, target] = 1.0"
   ]
  },
  {
   "cell_type": "code",
   "execution_count": 48,
   "metadata": {},
   "outputs": [
    {
     "data": {
      "text/plain": [
       "<matplotlib.lines.Line2D at 0x7f8b0a04a810>"
      ]
     },
     "execution_count": 48,
     "metadata": {},
     "output_type": "execute_result"
    },
    {
     "data": {
      "image/png": "[encoded data removed]",
      "text/plain": [
       "<Figure size 1008x1008 with 2 Axes>"
      ]
     },
     "metadata": {
      "needs_background": "light"
     },
     "output_type": "display_data"
    }
   ],
   "source": [
    "palette = copy(plt.get_cmap('winter'))\n",
    "palette.set_under('black', 1.0)\n",
    "\n",
    "plt.figure(figsize=(14, 14))\n",
    "plt.imshow(replays, aspect='auto', extent=[0, num_states, num_replay_steps, 0], cmap=palette, vmin=0.25, vmax=1.0)\n",
    "plt.ylim(100, 0)\n",
    "plt.colorbar()\n",
    "plt.axvline(5, color='r')\n",
    "plt.axvline(10, color='r')"
   ]
  },
  {
   "cell_type": "code",
   "execution_count": null,
   "metadata": {},
   "outputs": [],
   "source": []
  },
  {
   "cell_type": "code",
   "execution_count": null,
   "metadata": {},
   "outputs": [],
   "source": []
  },
  {
   "cell_type": "code",
   "execution_count": null,
   "metadata": {},
   "outputs": [],
   "source": []
  },
  {
   "cell_type": "code",
   "execution_count": null,
   "metadata": {},
   "outputs": [],
   "source": []
  },
  {
   "cell_type": "code",
   "execution_count": null,
   "metadata": {},
   "outputs": [],
   "source": []
  },
  {
   "cell_type": "code",
   "execution_count": null,
   "metadata": {},
   "outputs": [],
   "source": []
  },
  {
   "cell_type": "code",
   "execution_count": null,
   "metadata": {},
   "outputs": [],
   "source": []
  },
  {
   "cell_type": "code",
   "execution_count": null,
   "metadata": {},
   "outputs": [],
   "source": []
  },
  {
   "cell_type": "code",
   "execution_count": null,
   "metadata": {},
   "outputs": [],
   "source": []
  },
  {
   "cell_type": "code",
   "execution_count": null,
   "metadata": {},
   "outputs": [],
   "source": []
  },
  {
   "cell_type": "code",
   "execution_count": null,
   "metadata": {},
   "outputs": [],
   "source": []
  },
  {
   "cell_type": "code",
   "execution_count": null,
   "metadata": {},
   "outputs": [],
   "source": []
  },
  {
   "cell_type": "code",
   "execution_count": null,
   "metadata": {},
   "outputs": [],
   "source": []
  }
 ],
 "metadata": {
  "kernelspec": {
   "display_name": "Python 3",
   "language": "python",
   "name": "python3"
  },
  "language_info": {
   "codemirror_mode": {
    "name": "ipython",
    "version": 3
   },
   "file_extension": ".py",
   "mimetype": "text/x-python",
   "name": "python",
   "nbconvert_exporter": "python",
   "pygments_lexer": "ipython3",
   "version": "3.7.4"
  }
 },
 "nbformat": 4,
 "nbformat_minor": 2
}
