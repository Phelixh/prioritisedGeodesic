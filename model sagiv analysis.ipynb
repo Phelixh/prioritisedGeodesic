{
 "cells": [
  {
   "cell_type": "code",
   "execution_count": 1,
   "metadata": {},
   "outputs": [],
   "source": [
    "import numpy as np\n",
    "import matplotlib.pyplot as plt\n",
    "\n",
    "np.set_printoptions(precision=10, suppress=True)"
   ]
  },
  {
   "cell_type": "code",
   "execution_count": 2,
   "metadata": {},
   "outputs": [
    {
     "name": "stdout",
     "output_type": "stream",
     "text": [
      "posto\n",
      "prec\n",
      "hit_the_wall\n",
      "goal_seq\n",
      "wall_loc\n",
      "bn_ids\n",
      "bn_arm_start_ids\n",
      "states\n",
      "goal_ids\n",
      "\n",
      "Bottleneck IDs: [1 2 3]\n",
      "Bottleneck arm start IDs: [ 7  9 11]\n",
      "Goal IDs: [4 5 6]\n"
     ]
    }
   ],
   "source": [
    "d = np.load('./Data/sagiv/sagiv_mouse_data.npz', allow_pickle=True)\n",
    "for key in d.keys():\n",
    "    print(key)\n",
    "\n",
    "print()\n",
    "print('Bottleneck IDs:', d['bn_ids'])\n",
    "print('Bottleneck arm start IDs:', d['bn_arm_start_ids'])\n",
    "print('Goal IDs:', d['goal_ids'])"
   ]
  },
  {
   "cell_type": "code",
   "execution_count": 3,
   "metadata": {
    "scrolled": false
   },
   "outputs": [],
   "source": [
    "posto = d['posto']\n",
    "prec = d['prec']\n",
    "wall = d['hit_the_wall']\n",
    "goal_seq = d['goal_seq']\n",
    "wall_loc = d['wall_loc']\n",
    "\n",
    "num_mice = posto.shape[0]\n",
    "num_sessions = posto.shape[1]\n",
    "num_trials = posto.shape[2]"
   ]
  },
  {
   "cell_type": "code",
   "execution_count": 4,
   "metadata": {},
   "outputs": [
    {
     "data": {
      "text/plain": [
       "array([[ 8.,  0.,  8.],\n",
       "       [ 8.,  2.,  8.],\n",
       "       [36.,  0., 36.],\n",
       "       [14.,  3.,  4.],\n",
       "       [ 9.,  4.,  0.],\n",
       "       [29.,  3.,  6.],\n",
       "       [36.,  0., 36.],\n",
       "       [22.,  4.,  2.],\n",
       "       [10.,  3.,  2.],\n",
       "       [19.,  1., 19.],\n",
       "       [19.,  2., 19.],\n",
       "       [17.,  4.,  1.],\n",
       "       [36.,  4., 35.],\n",
       "       [35.,  1., 35.],\n",
       "       [38.,  0., 38.],\n",
       "       [26.,  0., 26.],\n",
       "       [ 9.,  2.,  9.],\n",
       "       [33.,  3.,  4.],\n",
       "       [17.,  3., 18.],\n",
       "       [16.,  3.,  5.],\n",
       "       [23.,  3., 24.],\n",
       "       [33.,  0., 33.],\n",
       "       [28.,  0., 28.],\n",
       "       [ 0.,  3.,  0.],\n",
       "       [31.,  4., 30.],\n",
       "       [20.,  3., 21.],\n",
       "       [24.,  0., 24.],\n",
       "       [17.,  0., 17.],\n",
       "       [25.,  4., 24.],\n",
       "       [10.,  3.,  2.]])"
      ]
     },
     "execution_count": 4,
     "metadata": {},
     "output_type": "execute_result"
    }
   ],
   "source": [
    "wall[0, 0]"
   ]
  },
  {
   "cell_type": "markdown",
   "metadata": {},
   "source": [
    "[ 8.,  4.,  7.]  ?\n",
    "\n",
    "[36.,  3.,  5.]  HF goal -> HF bottleneck -> agent location\n",
    "[35.,  3., 36.]\n",
    "[34.,  3., 35.]\n",
    "[ 3.,  1., 34.]\n",
    "[12.,  3.,  3.]\n",
    "[11.,  3., 12.]\n",
    "[ 0.,  2., 11.]\n",
    "[ 7.,  4.,  0.]\n",
    "[ 8.,  4.,  7.]\n",
    "\n",
    "[29.,  3.,  6.] HF goal -> LF bottleneck (??) -> agent location\n",
    "[28.,  3., 29.]\n",
    "[27.,  3., 28.]\n",
    "[26.,  3., 27.]\n",
    "[ 2.,  2., 26.]\n",
    "[10.,  3.,  2.]\n",
    "[ 9.,  3., 10.]\n",
    "[ 0.,  1.,  9.]\n",
    "[ 7.,  4.,  0.]\n",
    "[ 8.,  4.,  7.]\n",
    "\n",
    "[21.,  3.,  4.] LF goal -> LF bottleneck -> agent location\n",
    "[20.,  3., 21.]\n",
    "[19.,  3., 20.]\n",
    "[ 2.,  0., 19.]\n",
    "[10.,  3.,  2.]\n",
    "[ 9.,  3., 10.]\n",
    "[ 0.,  1.,  9.]\n",
    "[ 7.,  4.,  0.]\n",
    "[ 8.,  4.,  7.]\n",
    "\n",
    "[16.,  1., 16.]"
   ]
  },
  {
   "cell_type": "code",
   "execution_count": null,
   "metadata": {},
   "outputs": [],
   "source": []
  }
 ],
 "metadata": {
  "kernelspec": {
   "display_name": "Python 3 (ipykernel)",
   "language": "python",
   "name": "python3"
  },
  "language_info": {
   "codemirror_mode": {
    "name": "ipython",
    "version": 3
   },
   "file_extension": ".py",
   "mimetype": "text/x-python",
   "name": "python",
   "nbconvert_exporter": "python",
   "pygments_lexer": "ipython3",
   "version": "3.10.4"
  }
 },
 "nbformat": 4,
 "nbformat_minor": 2
}
